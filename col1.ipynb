{
  "nbformat": 4,
  "nbformat_minor": 0,
  "metadata": {
    "colab": {
      "provenance": [],
      "authorship_tag": "ABX9TyOEMZTPHx5tZYPHpFLZC4+o"
    },
    "kernelspec": {
      "name": "python3",
      "display_name": "Python 3"
    },
    "language_info": {
      "name": "python"
    },
    "accelerator": "TPU"
  },
  "cells": [
    {
      "cell_type": "code",
      "execution_count": 1,
      "metadata": {
        "id": "vQoNsF1Oaw5f"
      },
      "outputs": [],
      "source": [
        "Shadow Defender License Key:\n",
        "ajbQhOERb2B35D-5BlNWXlPMFy9tY3av7\n",
        "\n",
        "zV3XpVJtBo1MW-C4ioIMPfZbxAIy2O5nY\n",
        "\n",
        "jrbkZ2sXxIdGAm-v03eejQ90GRfUc7MFm\n",
        "\n",
        "r6Dnd7u6exWX-nLis17NGVRUefxtyiMJZ\n",
        "\n",
        "Shadow Defender Product Key:\n",
        "LN3aYTrRj6Eke-69K0qjRXvvvGW9EyIuA\n",
        "\n",
        "dxgeKuXYOPK-cai0MMHdyL13ulGvL3q1e\n",
        "\n",
        "5eptw9rlT9G-v2UVl1BY1frocGcnCYu7Z\n",
        "\n",
        "ZQoi4VkYleI-4SEhOCX9DHQCoVXA3BokY\n",
        "Shadow Defender Serial Key\n",
        "KLl60qZ-X8jTg-Trw94c-bNnW-ygfglVt-RF\n",
        "\n",
        "DV6fiPJ-pyip0ZL-tcQTht-BTG6-nRpu-pdT\n",
        "\n",
        "6AHory-tTwKmyz-KIBpOj-5N3M-eDWZy\n",
        "\n",
        "C0yrLFS-E6kt7-X67WCP-En5a-aSy7Fi-Hl\n",
        "\n",
        "Shadow Defender License Key\n",
        "L4nFIxoIDB-P0QuIT-a1tnmeDsP-8lMpN78\n",
        "\n",
        "I96NUP3jh-3VOTC44-qHw8B8W-EelVRNY\n",
        "\n",
        "9gt3eG7x-Ma3XnA7Xh-8y3Sg-lihpO3DZIJ\n",
        "\n",
        "yCkKB-ocdEzLmSqs-mPJLbDN-C7MfPMKF\n",
        "\n",
        "Shadow Defender Activation key\n",
        "NeAoln7boU-JdhZ7KX-gazR1kz-IB4MKW\n",
        "\n",
        "dB7sBj96H-hvjR7Uyp-1ktUEk-3GFL6Xf5L\n",
        "\n",
        "mSJcEiW2y7-Gruccek-AvlDFph-R8OxPAv\n",
        "\n",
        "fzWKoEo-ywZ8NqvH-sPYJ82C-QprQfqTo"
      ]
    }
  ]
}